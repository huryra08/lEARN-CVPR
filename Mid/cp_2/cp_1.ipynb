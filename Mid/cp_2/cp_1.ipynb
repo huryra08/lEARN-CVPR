{
  "nbformat": 4,
  "nbformat_minor": 0,
  "metadata": {
    "colab": {
      "provenance": []
    },
    "kernelspec": {
      "name": "python3",
      "display_name": "Python 3"
    },
    "language_info": {
      "name": "python"
    }
  },
  "cells": [
    {
      "cell_type": "code",
      "execution_count": 1,
      "metadata": {
        "id": "-pA3eABJTCTi"
      },
      "outputs": [],
      "source": [
        "import os\n",
        "import random\n",
        "import cv2"
      ]
    },
    {
      "cell_type": "code",
      "source": [
        "!git clone https://github.com/YoongiKim/CIFAR-10-images.git"
      ],
      "metadata": {
        "colab": {
          "base_uri": "https://localhost:8080/"
        },
        "id": "gjbCf_tuTX1w",
        "outputId": "b8f3feda-b994-454e-e5c4-4308e6c80b06"
      },
      "execution_count": 2,
      "outputs": [
        {
          "output_type": "stream",
          "name": "stdout",
          "text": [
            "Cloning into 'CIFAR-10-images'...\n",
            "remote: Enumerating objects: 60027, done.\u001b[K\n",
            "remote: Total 60027 (delta 0), reused 0 (delta 0), pack-reused 60027\u001b[K\n",
            "Receiving objects: 100% (60027/60027), 19.94 MiB | 36.66 MiB/s, done.\n",
            "Resolving deltas: 100% (59990/59990), done.\n",
            "Updating files: 100% (60001/60001), done.\n"
          ]
        }
      ]
    },
    {
      "cell_type": "code",
      "source": [
        "os.chdir('CIFAR-10-images/train')"
      ],
      "metadata": {
        "id": "Gkx9yM45TaZY"
      },
      "execution_count": 3,
      "outputs": []
    },
    {
      "cell_type": "code",
      "source": [
        "img_data = {}\n",
        "class_names = os.listdir()"
      ],
      "metadata": {
        "id": "pFUMRNSLTiT5"
      },
      "execution_count": 4,
      "outputs": []
    },
    {
      "cell_type": "code",
      "source": [
        "for class_name in class_names:\n",
        "  class_dir = os.path.join(os.getcwd(), class_name)\n",
        "  images = os.listdir(class_dir)\n",
        "  class_img = []\n",
        "\n",
        "  for img in images:\n",
        "    img_path = os.path.join(class_dir, img)\n",
        "    rgb_img = cv2.imread(img_path)\n",
        "    class_img.append(cv2.cvtColor(rgb_img, cv2.COLOR_BGR2GRAY))\n",
        "\n",
        "  img_data[class_name] = class_img\n",
        ""
      ],
      "metadata": {
        "id": "kBQHmtx0TmGP"
      },
      "execution_count": 10,
      "outputs": []
    },
    {
      "cell_type": "code",
      "source": [
        "\n"
      ],
      "metadata": {
        "colab": {
          "base_uri": "https://localhost:8080/",
          "height": 140
        },
        "id": "Lu5VEAzkTsin",
        "outputId": "d98e9b98-29f5-4595-e79e-8fde74596b15"
      },
      "execution_count": 9,
      "outputs": [
        {
          "output_type": "error",
          "ename": "SyntaxError",
          "evalue": "ignored",
          "traceback": [
            "\u001b[0;36m  File \u001b[0;32m\"<ipython-input-9-4c2fdb525928>\"\u001b[0;36m, line \u001b[0;32m1\u001b[0m\n\u001b[0;31m    for label, img in img_data.items():\u001b[0m\n\u001b[0m                                       ^\u001b[0m\n\u001b[0;31mSyntaxError\u001b[0m\u001b[0;31m:\u001b[0m incomplete input\n"
          ]
        }
      ]
    }
  ]
}