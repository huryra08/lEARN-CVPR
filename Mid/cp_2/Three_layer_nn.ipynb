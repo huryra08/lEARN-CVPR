{
  "nbformat": 4,
  "nbformat_minor": 0,
  "metadata": {
    "colab": {
      "provenance": []
    },
    "kernelspec": {
      "name": "python3",
      "display_name": "Python 3"
    },
    "language_info": {
      "name": "python"
    }
  },
  "cells": [
    {
      "cell_type": "code",
      "execution_count": 8,
      "metadata": {
        "id": "Ppu8xwMdgMMs"
      },
      "outputs": [],
      "source": [
        "import numpy as np\n",
        "import matplotlib.pyplot as plt\n",
        "\n",
        "\n"
      ]
    },
    {
      "cell_type": "code",
      "source": [
        "np.random.seed(0)\n",
        "\n",
        "X = np.array([[0, 0], [0, 1], [1, 0], [1, 1]])\n",
        "Y = np.array([[0], [1], [1], [0]])"
      ],
      "metadata": {
        "id": "Qt8pTk08hTf-"
      },
      "execution_count": 9,
      "outputs": []
    },
    {
      "cell_type": "code",
      "source": [
        "\n",
        "class NeuralNetwork(object):\n",
        "    def __init__(self):\n",
        "        inputLayerNeurons = 2\n",
        "        hiddenLayer1Neurons = 10\n",
        "        hiddenLayer2Neurons = 10\n",
        "        outLayerNeurons = 3\n",
        "\n",
        "        self.learning_rate = .3\n",
        "\n",
        "        self.W_IH1 = np.random.randn(inputLayerNeurons, hiddenLayer1Neurons)\n",
        "        self.W_H1H2 = np.random.randn(hiddenLayer1Neurons, hiddenLayer2Neurons)\n",
        "        self.W_H2O = np.random.randn(hiddenLayer2Neurons, outLayerNeurons)\n",
        "\n",
        "    def sigmoid(self, x, der=False):\n",
        "        if der == True:\n",
        "            return x * (1 - x)\n",
        "        else:\n",
        "            return 1 / (1 + np.exp(-x))\n",
        "\n",
        "    def feedForward(self, X):\n",
        "        hidden1_input = np.dot(X, self.W_IH1)\n",
        "        self.hidden1_output = self.sigmoid(hidden1_input)\n",
        "\n",
        "        hidden2_input = np.dot(self.hidden1_output, self.W_H1H2)\n",
        "        self.hidden2_output = self.sigmoid(hidden2_input)\n",
        "\n",
        "        output_input = np.dot(self.hidden2_output, self.W_H2O)\n",
        "        pred = self.sigmoid(output_input)\n",
        "        return pred\n",
        "\n",
        "    def backPropagation(self, X, Y, pred):\n",
        "        output_error = Y - pred\n",
        "        output_delta = self.learning_rate * output_error * self.sigmoid(pred, der=True)\n",
        "\n",
        "        hidden2_error = output_delta.dot(self.W_H2O.T)\n",
        "        hidden2_delta = self.learning_rate * hidden2_error * self.sigmoid(self.hidden2_output, der=True)\n",
        "\n",
        "        hidden1_error = hidden2_delta.dot(self.W_H1H2.T)\n",
        "        hidden1_delta = self.learning_rate * hidden1_error * self.sigmoid(self.hidden1_output, der=True)\n",
        "\n",
        "        self.W_IH1 += X.T.dot(hidden1_delta)\n",
        "        self.W_H1H2 += self.hidden1_output.T.dot(hidden2_delta)\n",
        "        self.W_H2O += self.hidden2_output.T.dot(output_delta)\n",
        "\n",
        "    def train(self, X, Y):\n",
        "        output = self.feedForward(X)\n",
        "        self.backPropagation(X, Y, output)\n"
      ],
      "metadata": {
        "id": "Xdi3aD0Sgq-n"
      },
      "execution_count": 11,
      "outputs": []
    },
    {
      "cell_type": "code",
      "source": [
        "NN = NeuralNetwork()\n",
        "\n",
        "err = []\n",
        "for i in range(10000):\n",
        "    NN.train(X, Y)\n",
        "    err.append(np.mean(np.square(Y - NN.feedForward(X))))\n",
        "\n",
        "plt.plot(err)"
      ],
      "metadata": {
        "colab": {
          "base_uri": "https://localhost:8080/",
          "height": 447
        },
        "id": "Lzi76TO1gzTX",
        "outputId": "965a2954-e4bd-4818-ba56-91d9ef39a500"
      },
      "execution_count": 12,
      "outputs": [
        {
          "output_type": "execute_result",
          "data": {
            "text/plain": [
              "[<matplotlib.lines.Line2D at 0x7ab35e9c7910>]"
            ]
          },
          "metadata": {},
          "execution_count": 12
        },
        {
          "output_type": "display_data",
          "data": {
            "text/plain": [
              "<Figure size 640x480 with 1 Axes>"
            ],
            "image/png": "[encoded data removed]"
          },
          "metadata": {}
        }
      ]
    },
    {
      "cell_type": "code",
      "source": [
        "print(NN.feedForward([0, 0]))"
      ],
      "metadata": {
        "colab": {
          "base_uri": "https://localhost:8080/"
        },
        "id": "RC_c2V4Fg95H",
        "outputId": "d55b2bbb-59e2-47b3-bd11-df5d3fccad3d"
      },
      "execution_count": 13,
      "outputs": [
        {
          "output_type": "stream",
          "name": "stdout",
          "text": [
            "[0.01648137 0.01615448 0.01646279]\n"
          ]
        }
      ]
    },
    {
      "cell_type": "code",
      "source": [
        "print(NN.feedForward([1, 0]))"
      ],
      "metadata": {
        "colab": {
          "base_uri": "https://localhost:8080/"
        },
        "id": "LKH-4YALhBHu",
        "outputId": "f4d25314-9918-4833-b6f3-eb69e08d538f"
      },
      "execution_count": 14,
      "outputs": [
        {
          "output_type": "stream",
          "name": "stdout",
          "text": [
            "[0.98196038 0.97951112 0.97978072]\n"
          ]
        }
      ]
    },
    {
      "cell_type": "code",
      "source": [
        "print(NN.feedForward([0, 1]))"
      ],
      "metadata": {
        "colab": {
          "base_uri": "https://localhost:8080/"
        },
        "id": "rj2oOMPAhEBF",
        "outputId": "7300bf5f-b6f1-4ebe-d19d-63cdd9af49b1"
      },
      "execution_count": 15,
      "outputs": [
        {
          "output_type": "stream",
          "name": "stdout",
          "text": [
            "[0.97949655 0.98317961 0.98222555]\n"
          ]
        }
      ]
    },
    {
      "cell_type": "code",
      "source": [
        "print(NN.feedForward([1,1]))"
      ],
      "metadata": {
        "colab": {
          "base_uri": "https://localhost:8080/"
        },
        "id": "aaOkUnNshHqu",
        "outputId": "63863e1f-6921-4725-e766-7d621a6eb17e"
      },
      "execution_count": 16,
      "outputs": [
        {
          "output_type": "stream",
          "name": "stdout",
          "text": [
            "[0.0229294  0.02227938 0.02252748]\n"
          ]
        }
      ]
    }
  ]
}